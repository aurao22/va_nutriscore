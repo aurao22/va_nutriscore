{
 "cells": [
  {
   "cell_type": "markdown",
   "metadata": {
    "colab": {},
    "colab_type": "code",
    "id": "Eql4l1xm7M4c"
   },
   "source": [
    "L'agence **\"Santé publique France\"** a lancé un appel à projets pour trouver des idées innovantes d’applications en lien avec l'alimentation. Vous souhaitez y participer et proposer une idée d’application.\n",
    "\n"
   ]
  },
  {
   "cell_type": "markdown",
   "metadata": {},
   "source": [
    "**Les données**\n",
    "\n",
    "Extrait de l'appel à projets :\n",
    "\n",
    "Le jeu de données **Open Food Fact** est disponible sur le site officiel https://world.openfoodfacts.org/. Les variables sont définies à cette adresse https://world.openfoodfacts.org/data/data-fields.txt\n",
    "\n",
    "Les champs sont séparés en quatre sections :\n",
    "\n",
    "* Les informations générales sur la fiche du produit : nom, date de modification, etc.\n",
    "* Un ensemble de tags : catégorie du produit, localisation, origine, etc.\n",
    "* Les ingrédients composant les produits et leurs additifs éventuels.\n",
    "* Des informations nutritionnelles : quantité en grammes d’un nutriment pour 100 grammes du produit."
   ]
  },
  {
   "cell_type": "markdown",
   "metadata": {},
   "source": [
    "**Votre mission **\n",
    "\n",
    "Après avoir lu l’appel à projets, voici les différentes étapes que vous avez identifiées :\n",
    "\n",
    "1) Traiter le jeu de données afin de repérer des variables pertinentes pour les traitements à venir. Automatiser ces traitements pour éviter de répéter ces opérations.\n",
    "(**Le programme doit fonctionner si la base de données est légèrement modifiée (ajout d’entrées, par exemple).**)\n",
    "\n",
    "2) Tout au long de l’analyse, produire des visualisations afin de mieux comprendre les données. Effectuer une analyse univariée pour chaque variable intéressante, afin de synthétiser son comportement.\n",
    "(**L’appel à projets spécifie que l’analyse doit être simple à comprendre pour un public néophyte. Soyez donc attentif à la lisibilité : taille des textes, choix des couleurs, netteté suffisante, et variez les graphiques (boxplots, histogrammes, diagrammes circulaires, nuages de points…) pour illustrer au mieux votre propos.**)\n",
    "\n",
    "3) Élaborer une idée d’application. Identifier des arguments justifiant la faisabilité (ou non) de l’application à partir des données Open Food Facts."
   ]
  },
  {
   "cell_type": "markdown",
   "metadata": {},
   "source": [
    "## Documents "
   ]
  },
  {
   "cell_type": "markdown",
   "metadata": {},
   "source": [
    "* Graphique : https://www.psiweb.org/docs/default-source/2018-psi-conference-posters/48-julie-jones.pdf\n",
    "* Missingno : https://github.com/ResidentMario/missingno"
   ]
  },
  {
   "cell_type": "markdown",
   "metadata": {},
   "source": [
    "## Cours"
   ]
  },
  {
   "cell_type": "markdown",
   "metadata": {},
   "source": [
    "* Décrivez et nettoyez votre jeu de données : https://openclassrooms.com/fr/courses/4525266-decrivez-et-nettoyez-votre-jeu-de-donnees\n",
    "\n",
    "* Réalisez une analyse exploratoire de données : https://openclassrooms.com/fr/courses/4525281-realisez-une-analyse-exploratoire-de-donnees"
   ]
  },
  {
   "cell_type": "code",
   "execution_count": null,
   "metadata": {},
   "outputs": [],
   "source": []
  }
 ],
 "metadata": {
  "colab": {
   "name": "nettoyer_vos_donnees_teacher.ipynb",
   "provenance": []
  },
  "jupytext": {
   "encoding": "# -*- coding: utf-8 -*-",
   "text_representation": {
    "extension": ".py",
    "format_name": "light",
    "format_version": "1.5",
    "jupytext_version": "1.5.2"
   }
  },
  "kernelspec": {
   "display_name": "Python 3",
   "language": "python",
   "name": "python3"
  },
  "language_info": {
   "codemirror_mode": {
    "name": "ipython",
    "version": 3
   },
   "file_extension": ".py",
   "mimetype": "text/x-python",
   "name": "python",
   "nbconvert_exporter": "python",
   "pygments_lexer": "ipython3",
   "version": "3.8.8"
  }
 },
 "nbformat": 4,
 "nbformat_minor": 4
}
